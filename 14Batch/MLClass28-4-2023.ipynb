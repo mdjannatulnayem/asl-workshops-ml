{
  "metadata": {
    "kernelspec": {
      "name": "python",
      "display_name": "Python (Pyodide)",
      "language": "python"
    },
    "language_info": {
      "codemirror_mode": {
        "name": "python",
        "version": 3
      },
      "file_extension": ".py",
      "mimetype": "text/x-python",
      "name": "python",
      "nbconvert_exporter": "python",
      "pygments_lexer": "ipython3",
      "version": "3.8"
    }
  },
  "nbformat_minor": 4,
  "nbformat": 4,
  "cells": [
    {
      "cell_type": "markdown",
      "source": "\n# Machine Learning 24-8-2023 by Akash & Rana\n\n### Basics of Reading data from CSV and Drawing a Plot",
      "metadata": {
        "tags": []
      }
    },
    {
      "cell_type": "markdown",
      "source": "-> Importing pandas lybrary",
      "metadata": {}
    },
    {
      "cell_type": "code",
      "source": "import pandas as pd",
      "metadata": {
        "trusted": true
      },
      "execution_count": 68,
      "outputs": []
    },
    {
      "cell_type": "markdown",
      "source": "-> Reading data from CSV file and storing in Data frame DF",
      "metadata": {}
    },
    {
      "cell_type": "code",
      "source": "df = pd.read_csv('titanic.csv')",
      "metadata": {},
      "execution_count": null,
      "outputs": []
    },
    {
      "cell_type": "markdown",
      "source": "-> Printing data-frame df. You can use only : <b> df  </b> \nor <b> print(df) </b> \nor to view the top 5 <b> print(df.head()) </b>\nto view particular no of row use parameter in head \n<b> print(df.head(2)) </b>",
      "metadata": {}
    },
    {
      "cell_type": "code",
      "source": "# df\ndf.head()\n# df.tail()\n# print(df.head())\n# print(df.head(3))\n",
      "metadata": {
        "trusted": true
      },
      "execution_count": 81,
      "outputs": [
        {
          "execution_count": 81,
          "output_type": "execute_result",
          "data": {
            "text/plain": "   Survived  Pclass     Sex   Age  Siblings/Spouses  Parents/Children     Fare\n0         0       3    male  22.0                 1                 0   7.2500\n1         1       1  female  38.0                 1                 0  71.2833\n2         1       3  female  26.0                 0                 0   7.9250\n3         1       1  female  35.0                 1                 0  53.1000\n4         0       3    male  35.0                 0                 0   8.0500",
            "text/html": "<div>\n<style scoped>\n    .dataframe tbody tr th:only-of-type {\n        vertical-align: middle;\n    }\n\n    .dataframe tbody tr th {\n        vertical-align: top;\n    }\n\n    .dataframe thead th {\n        text-align: right;\n    }\n</style>\n<table border=\"1\" class=\"dataframe\">\n  <thead>\n    <tr style=\"text-align: right;\">\n      <th></th>\n      <th>Survived</th>\n      <th>Pclass</th>\n      <th>Sex</th>\n      <th>Age</th>\n      <th>Siblings/Spouses</th>\n      <th>Parents/Children</th>\n      <th>Fare</th>\n    </tr>\n  </thead>\n  <tbody>\n    <tr>\n      <th>0</th>\n      <td>0</td>\n      <td>3</td>\n      <td>male</td>\n      <td>22.0</td>\n      <td>1</td>\n      <td>0</td>\n      <td>7.2500</td>\n    </tr>\n    <tr>\n      <th>1</th>\n      <td>1</td>\n      <td>1</td>\n      <td>female</td>\n      <td>38.0</td>\n      <td>1</td>\n      <td>0</td>\n      <td>71.2833</td>\n    </tr>\n    <tr>\n      <th>2</th>\n      <td>1</td>\n      <td>3</td>\n      <td>female</td>\n      <td>26.0</td>\n      <td>0</td>\n      <td>0</td>\n      <td>7.9250</td>\n    </tr>\n    <tr>\n      <th>3</th>\n      <td>1</td>\n      <td>1</td>\n      <td>female</td>\n      <td>35.0</td>\n      <td>1</td>\n      <td>0</td>\n      <td>53.1000</td>\n    </tr>\n    <tr>\n      <th>4</th>\n      <td>0</td>\n      <td>3</td>\n      <td>male</td>\n      <td>35.0</td>\n      <td>0</td>\n      <td>0</td>\n      <td>8.0500</td>\n    </tr>\n  </tbody>\n</table>\n</div>"
          },
          "metadata": {}
        }
      ]
    },
    {
      "cell_type": "markdown",
      "source": "-> To see the Shape of the data frame we can use shape property it gives the Row and Column number of the Data frame",
      "metadata": {}
    },
    {
      "cell_type": "code",
      "source": "print(df.shape)",
      "metadata": {
        "trusted": true
      },
      "execution_count": 51,
      "outputs": [
        {
          "name": "stdout",
          "text": "(887, 7)\n",
          "output_type": "stream"
        }
      ]
    },
    {
      "cell_type": "markdown",
      "source": "-> Describe will give Some description about the data set with Mean value , standard deviation and Percentiles",
      "metadata": {}
    },
    {
      "cell_type": "code",
      "source": "df.describe()",
      "metadata": {
        "trusted": true
      },
      "execution_count": 84,
      "outputs": [
        {
          "execution_count": 84,
          "output_type": "execute_result",
          "data": {
            "text/plain": "         Survived      Pclass         Age  Siblings/Spouses  Parents/Children  \\\ncount  887.000000  887.000000  887.000000        887.000000        887.000000   \nmean     0.385569    2.305524   29.471443          0.525366          0.383315   \nstd      0.487004    0.836662   14.121908          1.104669          0.807466   \nmin      0.000000    1.000000    0.420000          0.000000          0.000000   \n25%      0.000000    2.000000   20.250000          0.000000          0.000000   \n50%      0.000000    3.000000   28.000000          0.000000          0.000000   \n75%      1.000000    3.000000   38.000000          1.000000          0.000000   \nmax      1.000000    3.000000   80.000000          8.000000          6.000000   \n\n            Fare  \ncount  887.00000  \nmean    32.30542  \nstd     49.78204  \nmin      0.00000  \n25%      7.92500  \n50%     14.45420  \n75%     31.13750  \nmax    512.32920  ",
            "text/html": "<div>\n<style scoped>\n    .dataframe tbody tr th:only-of-type {\n        vertical-align: middle;\n    }\n\n    .dataframe tbody tr th {\n        vertical-align: top;\n    }\n\n    .dataframe thead th {\n        text-align: right;\n    }\n</style>\n<table border=\"1\" class=\"dataframe\">\n  <thead>\n    <tr style=\"text-align: right;\">\n      <th></th>\n      <th>Survived</th>\n      <th>Pclass</th>\n      <th>Age</th>\n      <th>Siblings/Spouses</th>\n      <th>Parents/Children</th>\n      <th>Fare</th>\n    </tr>\n  </thead>\n  <tbody>\n    <tr>\n      <th>count</th>\n      <td>887.000000</td>\n      <td>887.000000</td>\n      <td>887.000000</td>\n      <td>887.000000</td>\n      <td>887.000000</td>\n      <td>887.00000</td>\n    </tr>\n    <tr>\n      <th>mean</th>\n      <td>0.385569</td>\n      <td>2.305524</td>\n      <td>29.471443</td>\n      <td>0.525366</td>\n      <td>0.383315</td>\n      <td>32.30542</td>\n    </tr>\n    <tr>\n      <th>std</th>\n      <td>0.487004</td>\n      <td>0.836662</td>\n      <td>14.121908</td>\n      <td>1.104669</td>\n      <td>0.807466</td>\n      <td>49.78204</td>\n    </tr>\n    <tr>\n      <th>min</th>\n      <td>0.000000</td>\n      <td>1.000000</td>\n      <td>0.420000</td>\n      <td>0.000000</td>\n      <td>0.000000</td>\n      <td>0.00000</td>\n    </tr>\n    <tr>\n      <th>25%</th>\n      <td>0.000000</td>\n      <td>2.000000</td>\n      <td>20.250000</td>\n      <td>0.000000</td>\n      <td>0.000000</td>\n      <td>7.92500</td>\n    </tr>\n    <tr>\n      <th>50%</th>\n      <td>0.000000</td>\n      <td>3.000000</td>\n      <td>28.000000</td>\n      <td>0.000000</td>\n      <td>0.000000</td>\n      <td>14.45420</td>\n    </tr>\n    <tr>\n      <th>75%</th>\n      <td>1.000000</td>\n      <td>3.000000</td>\n      <td>38.000000</td>\n      <td>1.000000</td>\n      <td>0.000000</td>\n      <td>31.13750</td>\n    </tr>\n    <tr>\n      <th>max</th>\n      <td>1.000000</td>\n      <td>3.000000</td>\n      <td>80.000000</td>\n      <td>8.000000</td>\n      <td>6.000000</td>\n      <td>512.32920</td>\n    </tr>\n  </tbody>\n</table>\n</div>"
          },
          "metadata": {}
        }
      ]
    },
    {
      "cell_type": "markdown",
      "source": "-> Showing Passenger above age 50 years old or Filtering",
      "metadata": {}
    },
    {
      "cell_type": "code",
      "source": "df[df['Age']>50]",
      "metadata": {
        "trusted": true
      },
      "execution_count": 103,
      "outputs": [
        {
          "execution_count": 103,
          "output_type": "execute_result",
          "data": {
            "text/plain": "     Survived  Pclass     Sex   Age  Siblings/Spouses  Parents/Children  \\\n6           0       1    male  54.0                 0                 0   \n11          1       1  female  58.0                 0                 0   \n15          1       2  female  55.0                 0                 0   \n33          0       2    male  66.0                 0                 0   \n53          0       1    male  65.0                 0                 1   \n..        ...     ...     ...   ...               ...               ...   \n816         1       1  female  52.0                 1                 1   \n825         1       1  female  62.0                 0                 0   \n847         0       3    male  74.0                 0                 0   \n853         1       1    male  51.0                 0                 0   \n875         1       1  female  56.0                 0                 1   \n\n        Fare  \n6    51.8625  \n11   26.5500  \n15   16.0000  \n33   10.5000  \n53   61.9792  \n..       ...  \n816  93.5000  \n825  80.0000  \n847   7.7750  \n853  26.5500  \n875  83.1583  \n\n[72 rows x 7 columns]",
            "text/html": "<div>\n<style scoped>\n    .dataframe tbody tr th:only-of-type {\n        vertical-align: middle;\n    }\n\n    .dataframe tbody tr th {\n        vertical-align: top;\n    }\n\n    .dataframe thead th {\n        text-align: right;\n    }\n</style>\n<table border=\"1\" class=\"dataframe\">\n  <thead>\n    <tr style=\"text-align: right;\">\n      <th></th>\n      <th>Survived</th>\n      <th>Pclass</th>\n      <th>Sex</th>\n      <th>Age</th>\n      <th>Siblings/Spouses</th>\n      <th>Parents/Children</th>\n      <th>Fare</th>\n    </tr>\n  </thead>\n  <tbody>\n    <tr>\n      <th>6</th>\n      <td>0</td>\n      <td>1</td>\n      <td>male</td>\n      <td>54.0</td>\n      <td>0</td>\n      <td>0</td>\n      <td>51.8625</td>\n    </tr>\n    <tr>\n      <th>11</th>\n      <td>1</td>\n      <td>1</td>\n      <td>female</td>\n      <td>58.0</td>\n      <td>0</td>\n      <td>0</td>\n      <td>26.5500</td>\n    </tr>\n    <tr>\n      <th>15</th>\n      <td>1</td>\n      <td>2</td>\n      <td>female</td>\n      <td>55.0</td>\n      <td>0</td>\n      <td>0</td>\n      <td>16.0000</td>\n    </tr>\n    <tr>\n      <th>33</th>\n      <td>0</td>\n      <td>2</td>\n      <td>male</td>\n      <td>66.0</td>\n      <td>0</td>\n      <td>0</td>\n      <td>10.5000</td>\n    </tr>\n    <tr>\n      <th>53</th>\n      <td>0</td>\n      <td>1</td>\n      <td>male</td>\n      <td>65.0</td>\n      <td>0</td>\n      <td>1</td>\n      <td>61.9792</td>\n    </tr>\n    <tr>\n      <th>...</th>\n      <td>...</td>\n      <td>...</td>\n      <td>...</td>\n      <td>...</td>\n      <td>...</td>\n      <td>...</td>\n      <td>...</td>\n    </tr>\n    <tr>\n      <th>816</th>\n      <td>1</td>\n      <td>1</td>\n      <td>female</td>\n      <td>52.0</td>\n      <td>1</td>\n      <td>1</td>\n      <td>93.5000</td>\n    </tr>\n    <tr>\n      <th>825</th>\n      <td>1</td>\n      <td>1</td>\n      <td>female</td>\n      <td>62.0</td>\n      <td>0</td>\n      <td>0</td>\n      <td>80.0000</td>\n    </tr>\n    <tr>\n      <th>847</th>\n      <td>0</td>\n      <td>3</td>\n      <td>male</td>\n      <td>74.0</td>\n      <td>0</td>\n      <td>0</td>\n      <td>7.7750</td>\n    </tr>\n    <tr>\n      <th>853</th>\n      <td>1</td>\n      <td>1</td>\n      <td>male</td>\n      <td>51.0</td>\n      <td>0</td>\n      <td>0</td>\n      <td>26.5500</td>\n    </tr>\n    <tr>\n      <th>875</th>\n      <td>1</td>\n      <td>1</td>\n      <td>female</td>\n      <td>56.0</td>\n      <td>0</td>\n      <td>1</td>\n      <td>83.1583</td>\n    </tr>\n  </tbody>\n</table>\n<p>72 rows × 7 columns</p>\n</div>"
          },
          "metadata": {}
        }
      ]
    },
    {
      "cell_type": "markdown",
      "source": "-> We can store any column in a variable from data frame",
      "metadata": {}
    },
    {
      "cell_type": "code",
      "source": "col1 = df['Pclass']\nprint(col)",
      "metadata": {
        "trusted": true
      },
      "execution_count": 74,
      "outputs": [
        {
          "name": "stdout",
          "text": "0      3\n1      1\n2      3\n3      1\n4      3\n      ..\n882    2\n883    1\n884    3\n885    1\n886    3\nName: Pclass, Length: 887, dtype: int64\n",
          "output_type": "stream"
        }
      ]
    },
    {
      "cell_type": "code",
      "source": "col2 = df['Age']\nprint(col2)",
      "metadata": {
        "trusted": true
      },
      "execution_count": 76,
      "outputs": [
        {
          "name": "stdout",
          "text": "0      22.0\n1      38.0\n2      26.0\n3      35.0\n4      35.0\n       ... \n882    27.0\n883    19.0\n884     7.0\n885    26.0\n886    32.0\nName: Age, Length: 887, dtype: float64\n",
          "output_type": "stream"
        }
      ]
    },
    {
      "cell_type": "markdown",
      "source": "### Manually creating Data Frame ",
      "metadata": {}
    },
    {
      "cell_type": "code",
      "source": "df2 = pd.DataFrame()\n\ndf2['Name'] = ['Akash', 'Rana', 'Apu']\ndf2['Roll'] = [4231, 4226, 5125]\n\n\ndf2",
      "metadata": {
        "trusted": true
      },
      "execution_count": 102,
      "outputs": [
        {
          "execution_count": 102,
          "output_type": "execute_result",
          "data": {
            "text/plain": "    Name  Roll\n0  Akash  4231\n1   Rana  4226\n2    Apu  5125",
            "text/html": "<div>\n<style scoped>\n    .dataframe tbody tr th:only-of-type {\n        vertical-align: middle;\n    }\n\n    .dataframe tbody tr th {\n        vertical-align: top;\n    }\n\n    .dataframe thead th {\n        text-align: right;\n    }\n</style>\n<table border=\"1\" class=\"dataframe\">\n  <thead>\n    <tr style=\"text-align: right;\">\n      <th></th>\n      <th>Name</th>\n      <th>Roll</th>\n    </tr>\n  </thead>\n  <tbody>\n    <tr>\n      <th>0</th>\n      <td>Akash</td>\n      <td>4231</td>\n    </tr>\n    <tr>\n      <th>1</th>\n      <td>Rana</td>\n      <td>4226</td>\n    </tr>\n    <tr>\n      <th>2</th>\n      <td>Apu</td>\n      <td>5125</td>\n    </tr>\n  </tbody>\n</table>\n</div>"
          },
          "metadata": {}
        }
      ]
    },
    {
      "cell_type": "markdown",
      "source": "### For drawing plot we can use Pyplot from Matplotlib\n-> importing pyplot",
      "metadata": {}
    },
    {
      "cell_type": "code",
      "source": "import matplotlib.pyplot as  plt",
      "metadata": {
        "trusted": true
      },
      "execution_count": 75,
      "outputs": []
    },
    {
      "cell_type": "markdown",
      "source": "-> Defining the parameter's of Plot X-axis and Y-axis ",
      "metadata": {}
    },
    {
      "cell_type": "code",
      "source": "x = [1, 2, 3, 4, 5, 6, 7, 8]\ny = [3, 4, 1, 2, 4, 1 , 3, 5]",
      "metadata": {
        "trusted": true
      },
      "execution_count": 87,
      "outputs": []
    },
    {
      "cell_type": "markdown",
      "source": "-> Plot with the value X, Y",
      "metadata": {}
    },
    {
      "cell_type": "code",
      "source": "plt.scatter(x,y)\nplt.plot()",
      "metadata": {
        "trusted": true
      },
      "execution_count": 88,
      "outputs": [
        {
          "execution_count": 88,
          "output_type": "execute_result",
          "data": {
            "text/plain": "[]"
          },
          "metadata": {}
        },
        {
          "output_type": "display_data",
          "data": {
            "text/plain": "<Figure size 640x480 with 1 Axes>",
            "image/png": "[encoded data removed]"
          },
          "metadata": {}
        }
      ]
    },
    {
      "cell_type": "markdown",
      "source": "### Plot from the titanic data set Features",
      "metadata": {}
    },
    {
      "cell_type": "code",
      "source": "x = df['Age']\ny = df['Fare']",
      "metadata": {
        "trusted": true
      },
      "execution_count": 56,
      "outputs": []
    },
    {
      "cell_type": "markdown",
      "source": "-> Creating the Plot with different parameter",
      "metadata": {}
    },
    {
      "cell_type": "code",
      "source": "plt.scatter(x,y, color='Red')\nplt.title('ScatterPlot', fontsize=20)\nplt.xlabel('X-Axis', fontsize=18)\nplt.ylabel('Y-axis', fontsize = 18)\nplt.show()",
      "metadata": {
        "trusted": true
      },
      "execution_count": 78,
      "outputs": [
        {
          "output_type": "display_data",
          "data": {
            "text/plain": "<Figure size 640x480 with 1 Axes>",
            "image/png": "[encoded data removed]"
          },
          "metadata": {}
        }
      ]
    },
    {
      "cell_type": "markdown",
      "source": "## HOME WORK",
      "metadata": {}
    },
    {
      "cell_type": "markdown",
      "source": "-> Show the data set of peoples whose Fare was above 10 dollar",
      "metadata": {}
    },
    {
      "cell_type": "markdown",
      "source": "-> Give the screenshot in the group ",
      "metadata": {}
    },
    {
      "cell_type": "markdown",
      "source": "-> Time 3 days",
      "metadata": {}
    },
    {
      "cell_type": "code",
      "source": "",
      "metadata": {},
      "execution_count": null,
      "outputs": []
    }
  ]
}
